{
 "cells": [
  {
   "cell_type": "code",
   "execution_count": null,
   "metadata": {
    "collapsed": true
   },
   "outputs": [],
   "source": [
    "#!/usr/bin/env python\n",
    "# -*- coding: utf-8 -*-\n",
    "# All your changes should be in the 'extract_airports' function\n",
    "# It should return a list of airport codes, excluding any combinations like \"All\"\n",
    "\n",
    "from bs4 import BeautifulSoup\n",
    "html_page = \"options.html\"\n",
    "\n",
    "\n",
    "def extract_airports(page):\n",
    "    data = []\n",
    "    with open(page, \"r\") as html:\n",
    "        # do something here to find the necessary values\n",
    "        # YOUR CODE HERE below\n",
    "        soup = BeautifulSoup(html)\n",
    "        # list, find id ==\n",
    "        airport_list = soup.find(id=\"AirportList\")\n",
    "        # find for all where id == \n",
    "        for everyairport in airport_list.find_all(\"option\"):\n",
    "            # code == the values looked for\n",
    "            airport_code = everyairport[\"value\"]\n",
    "            # only those with len == 3 and different from \"All\"\n",
    "            if len(airport_code) == 3 and airport_code != \"All\":\n",
    "                # append\n",
    "                data.append(airport_code)\n",
    "                # YOUR CODE HERE above\n",
    "    return data\n",
    "\n",
    "\n",
    "def test():\n",
    "    data = extract_airports(html_page)\n",
    "    assert len(data) == 15\n",
    "    assert \"ATL\" in data\n",
    "    assert \"ABR\" in data\n",
    "\n",
    "test()"
   ]
  }
 ],
 "metadata": {
  "kernelspec": {
   "display_name": "Python 2",
   "language": "python",
   "name": "python2"
  },
  "language_info": {
   "codemirror_mode": {
    "name": "ipython",
    "version": 2
   },
   "file_extension": ".py",
   "mimetype": "text/x-python",
   "name": "python",
   "nbconvert_exporter": "python",
   "pygments_lexer": "ipython2",
   "version": "2.7.10"
  }
 },
 "nbformat": 4,
 "nbformat_minor": 0
}
