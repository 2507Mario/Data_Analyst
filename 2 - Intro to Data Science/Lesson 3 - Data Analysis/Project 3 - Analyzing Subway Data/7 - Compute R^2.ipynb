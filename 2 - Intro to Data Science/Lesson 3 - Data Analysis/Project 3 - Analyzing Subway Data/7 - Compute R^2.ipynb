{
 "cells": [
  {
   "cell_type": "code",
   "execution_count": null,
   "metadata": {
    "collapsed": true
   },
   "outputs": [],
   "source": [
    "import numpy as np\n",
    "import scipy\n",
    "import matplotlib.pyplot as plt\n",
    "import sys\n",
    "\n",
    "def compute_r_squared(data, predictions):\n",
    "    '''\n",
    "    In exercise 5, we calculated the R^2 value for you. But why don't you try and\n",
    "    and calculate the R^2 value yourself.\n",
    "    \n",
    "    Given a list of original data points, and also a list of predicted data points,\n",
    "    write a function that will compute and return the coefficient of determination (R^2)\n",
    "    for this data.  numpy.mean() and numpy.sum() might both be useful here, but\n",
    "    not necessary.\n",
    "\n",
    "    Documentation about numpy.mean() and numpy.sum() below:\n",
    "    http://docs.scipy.org/doc/numpy/reference/generated/numpy.mean.html\n",
    "    http://docs.scipy.org/doc/numpy/reference/generated/numpy.sum.html\n",
    "    '''\n",
    "    \n",
    "    # your code here\n",
    "    Numerator = ((predictions-data)**2).sum()\n",
    "    Denominator = ((data-np.mean(data))**2).sum()\n",
    "    r_squared = (1-Numerator/Denominator)    \n",
    "    \n",
    "    return r_squared"
   ]
  }
 ],
 "metadata": {
  "kernelspec": {
   "display_name": "Python 2",
   "language": "python",
   "name": "python2"
  },
  "language_info": {
   "codemirror_mode": {
    "name": "ipython",
    "version": 2
   },
   "file_extension": ".py",
   "mimetype": "text/x-python",
   "name": "python",
   "nbconvert_exporter": "python",
   "pygments_lexer": "ipython2",
   "version": "2.7.10"
  }
 },
 "nbformat": 4,
 "nbformat_minor": 0
}
