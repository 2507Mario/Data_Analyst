{
 "cells": [
  {
   "cell_type": "code",
   "execution_count": null,
   "metadata": {
    "collapsed": true
   },
   "outputs": [],
   "source": [
    "import json\n",
    "import requests\n",
    "\n",
    "def api_get_request(url):\n",
    "    # In this exercise, you want to call the last.fm API to get a list of the\n",
    "    # top artists in Spain.\n",
    "    #\n",
    "    # Once you've done this, return the name of the number 1 top artist in Spain.\n",
    "        # url = 'http://ws.audioscrobbler.com/2.0/?method=geo.getTopArtists&api_key=&country=Spain'\n",
    "        data = requests.get(url).text\n",
    "        best_in_Spain = json.loads(data)\n",
    "\n",
    "        \n",
    "        return best_in_Spain['topartists']['artist'][0]['name'] # return the top artist in Spain # return the top artist in Spain\n"
   ]
  }
 ],
 "metadata": {
  "kernelspec": {
   "display_name": "Python 2",
   "language": "python",
   "name": "python2"
  },
  "language_info": {
   "codemirror_mode": {
    "name": "ipython",
    "version": 2
   },
   "file_extension": ".py",
   "mimetype": "text/x-python",
   "name": "python",
   "nbconvert_exporter": "python",
   "pygments_lexer": "ipython2",
   "version": "2.7.10"
  }
 },
 "nbformat": 4,
 "nbformat_minor": 0
}
