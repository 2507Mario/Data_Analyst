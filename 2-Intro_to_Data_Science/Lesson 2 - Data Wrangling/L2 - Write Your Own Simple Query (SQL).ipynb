{
 "cells": [
  {
   "cell_type": "code",
   "execution_count": null,
   "metadata": {
    "collapsed": true
   },
   "outputs": [],
   "source": [
    "import pandas\n",
    "import pandasql\n",
    "\n",
    "def select_first_50(filename):\n",
    "    # Read in our aadhaar_data csv to a pandas dataframe.  Afterwards, we rename the columns\n",
    "    # by replacing spaces with underscores and setting all characters to lowercase, so the\n",
    "    # column names more closely resemble columns names one might find in a table.\n",
    "    aadhaar_data = pandas.read_csv(filename)\n",
    "    aadhaar_data.rename(columns = lambda x: x.replace(' ', '_').lower(), inplace=True)\n",
    "\n",
    "    # Select out the first 50 values for \"registrar\" and \"enrolment_agency\"\n",
    "    # in the aadhaar_data table using SQL syntax. \n",
    "    #\n",
    "    # Note that \"enrolment_agency\" is spelled with one l. Also, the order\n",
    "    # of the select does matter. Make sure you select registrar then enrolment agency\n",
    "    # in your query.\n",
    "    #\n",
    "    # You can download a copy of the aadhaar data that we are passing \n",
    "    # into this exercise below:\n",
    "    # https://www.dropbox.com/s/vn8t4uulbsfmalo/aadhaar_data.csv\n",
    "    q = \"\"\"\n",
    "    SELECT registrar, enrolment_agency FROM aadhaar_data LIMIT 50;\n",
    "    \"\"\"\n",
    "\n",
    "    #Execute your SQL command against the pandas frame\n",
    "    aadhaar_solution = pandasql.sqldf(q.lower(), locals())\n",
    "    return aadhaar_solution    "
   ]
  }
 ],
 "metadata": {
  "kernelspec": {
   "display_name": "Python 2",
   "language": "python",
   "name": "python2"
  },
  "language_info": {
   "codemirror_mode": {
    "name": "ipython",
    "version": 2
   },
   "file_extension": ".py",
   "mimetype": "text/x-python",
   "name": "python",
   "nbconvert_exporter": "python",
   "pygments_lexer": "ipython2",
   "version": "2.7.10"
  }
 },
 "nbformat": 4,
 "nbformat_minor": 0
}
