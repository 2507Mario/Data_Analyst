{
 "cells": [
  {
   "cell_type": "code",
   "execution_count": 1,
   "metadata": {
    "collapsed": true
   },
   "outputs": [],
   "source": [
    "\n",
    "import pandas\n",
    "\n",
    "from ggplot import *\n",
    "\n",
    "\n",
    "def lineplot_compare(hr_by_team_year_sf_la_csv):\n",
    "    # Write a function, lineplot_compare, that will read a csv file\n",
    "    # called hr_by_team_year_sf_la.csv and plot it using pandas and ggplot.\n",
    "    #\n",
    "    # This csv file has three columns: yearID, HR, and teamID. The data in the\n",
    "    # file gives the total number of home runs hit each year by the SF Giants \n",
    "    # (teamID == 'SFN') and the LA Dodgers (teamID == \"LAN\"). Produce a \n",
    "    # visualization comparing the total home runs by year of the two teams. \n",
    "    # \n",
    "    # You can see the data in hr_by_team_year_sf_la_csv\n",
    "    # at the link below:\n",
    "    # https://www.dropbox.com/s/wn43cngo2wdle2b/hr_by_team_year_sf_la.csv\n",
    "    #\n",
    "    # Note that to differentiate between multiple categories on the \n",
    "    # same plot in ggplot, we can pass color in with the other arguments\n",
    "    # to aes, rather than in our geometry functions. For example, \n",
    "    # ggplot(data, aes(xvar, yvar, color=category_var)). This should help you \n",
    "    # in this exercise.\n",
    "    df = pandas.read_csv('hr_by_team_year_sf_la.csv')\n",
    "    \n",
    "    gg = ggplot(aes(x='yearID',y='HR',color='teamID'),data=df) +\\\n",
    "    geom_point() + geom_line() +\\\n",
    "    ggtitle('Homeruns by year and Team') + xlab('Years') + ylab('Homeruns')\n",
    "    \n",
    "    return gg\n"
   ]
  }
 ],
 "metadata": {
  "kernelspec": {
   "display_name": "Python 2",
   "language": "python",
   "name": "python2"
  },
  "language_info": {
   "codemirror_mode": {
    "name": "ipython",
    "version": 2
   },
   "file_extension": ".py",
   "mimetype": "text/x-python",
   "name": "python",
   "nbconvert_exporter": "python",
   "pygments_lexer": "ipython2",
   "version": "2.7.10"
  }
 },
 "nbformat": 4,
 "nbformat_minor": 0
}
