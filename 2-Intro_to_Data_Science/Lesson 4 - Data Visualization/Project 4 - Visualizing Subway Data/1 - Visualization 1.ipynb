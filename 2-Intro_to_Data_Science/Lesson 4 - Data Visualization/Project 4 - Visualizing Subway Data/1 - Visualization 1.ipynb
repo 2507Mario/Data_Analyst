{
 "cells": [
  {
   "cell_type": "code",
   "execution_count": null,
   "metadata": {
    "collapsed": true
   },
   "outputs": [],
   "source": [
    "from pandas import *\n",
    "from ggplot import *\n",
    "\n",
    "def plot_weather_data(turnstile_weather):\n",
    "    '''\n",
    "    You are passed in a dataframe called turnstile_weather. \n",
    "    Use turnstile_weather along with ggplot to make a data visualization\n",
    "    focused on the MTA and weather data we used in assignment #3.  \n",
    "    You should feel free to implement something that we discussed in class \n",
    "    (e.g., scatterplots, line plots, or histograms) or attempt to implement\n",
    "    something more advanced if you'd like.  \n",
    "\n",
    "    Here are some suggestions for things to investigate and illustrate:\n",
    "     * Ridership by time of day or day of week\n",
    "     * How ridership varies based on Subway station (UNIT)\n",
    "     * Which stations have more exits or entries at different times of day\n",
    "       (You can use UNIT as a proxy for subway station.)\n",
    "\n",
    "    If you'd like to learn more about ggplot and its capabilities, take\n",
    "    a look at the documentation at:\n",
    "    https://pypi.python.org/pypi/ggplot/\n",
    "     \n",
    "    You can check out:\n",
    "    https://www.dropbox.com/s/meyki2wl9xfa7yk/turnstile_data_master_with_weather.csv\n",
    "     \n",
    "    To see all the columns and data points included in the turnstile_weather \n",
    "    dataframe. \n",
    "     \n",
    "    However, due to the limitation of our Amazon EC2 server, we are giving you a random\n",
    "    subset, about 1/3 of the actual data in the turnstile_weather dataframe.\n",
    "    '''\n",
    "    turnstile_weather.is_copy = False\n",
    "    turnstile_weather['DATEn'] = pandas.to_datetime(turnstile_weather['DATEn'])\n",
    "    turnstile_weather['day_of_week'] = turnstile_weather['DATEn'].dt.weekday\n",
    "    grouped = turnstile_weather.groupby('day_of_week' , as_index = False).sum()\n",
    " \n",
    "    plot = ggplot(grouped, aes('day_of_week', 'ENTRIESn_hourly')) + \\\n",
    "    geom_line(color='coral', size=6) + geom_point() +\\\n",
    "    ggtitle('RIDERSHIP PER DAY OF THE WEEK') + xlab('Day of the week') + ylab('Entries') +\\\n",
    "    theme_seaborn(style='whitegrid') +\\\n",
    "    scale_x_discrete(breaks=(0,1,2,3,4,5,6),labels=('Monday','Tuesday','Wednesday','Thursday','Friday','Saturday','Sunday'))\n",
    "    return plot\n"
   ]
  }
 ],
 "metadata": {
  "kernelspec": {
   "display_name": "Python 2",
   "language": "python",
   "name": "python2"
  },
  "language_info": {
   "codemirror_mode": {
    "name": "ipython",
    "version": 2
   },
   "file_extension": ".py",
   "mimetype": "text/x-python",
   "name": "python",
   "nbconvert_exporter": "python",
   "pygments_lexer": "ipython2",
   "version": "2.7.10"
  }
 },
 "nbformat": 4,
 "nbformat_minor": 0
}
