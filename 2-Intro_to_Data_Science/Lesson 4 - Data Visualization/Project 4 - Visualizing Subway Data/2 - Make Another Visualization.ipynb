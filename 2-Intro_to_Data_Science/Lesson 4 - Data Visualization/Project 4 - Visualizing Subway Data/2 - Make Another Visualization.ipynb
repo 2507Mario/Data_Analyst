{
 "cells": [
  {
   "cell_type": "code",
   "execution_count": null,
   "metadata": {
    "collapsed": true
   },
   "outputs": [],
   "source": [
    "from pandas import *\n",
    "from ggplot import *\n",
    "\n",
    "def plot_weather_data(turnstile_weather):\n",
    "    ''' \n",
    "    plot_weather_data is passed a dataframe called turnstile_weather. \n",
    "    Use turnstile_weather along with ggplot to make another data visualization\n",
    "    focused on the MTA and weather data we used in Project 3.\n",
    "    \n",
    "    Make a type of visualization different than what you did in the previous exercise.\n",
    "    Try to use the data in a different way (e.g., if you made a lineplot concerning \n",
    "    ridership and time of day in exercise #1, maybe look at weather and try to make a \n",
    "    histogram in this exercise). Or try to use multiple encodings in your graph if \n",
    "    you didn't in the previous exercise.\n",
    "    \n",
    "    You should feel free to implement something that we discussed in class \n",
    "    (e.g., scatterplots, line plots, or histograms) or attempt to implement\n",
    "    something more advanced if you'd like.\n",
    "\n",
    "    Here are some suggestions for things to investigate and illustrate:\n",
    "     * Ridership by time-of-day or day-of-week\n",
    "     * How ridership varies by subway station (UNIT)\n",
    "     * Which stations have more exits or entries at different times of day\n",
    "       (You can use UNIT as a proxy for subway station.)\n",
    "\n",
    "    If you'd like to learn more about ggplot and its capabilities, take\n",
    "    a look at the documentation at:\n",
    "    https://pypi.python.org/pypi/ggplot/\n",
    "     \n",
    "    You can check out the link \n",
    "    https://www.dropbox.com/s/meyki2wl9xfa7yk/turnstile_data_master_with_weather.csv\n",
    "    to see all the columns and data points included in the turnstile_weather \n",
    "    dataframe.\n",
    "     \n",
    "   However, due to the limitation of our Amazon EC2 server, we are giving you a random\n",
    "    subset, about 1/3 of the actual data in the turnstile_weather dataframe.\n",
    "    '''\n",
    "\n",
    "\n",
    "    #df_hour = turnstile_weather.groupby('Hour' , as_index = False).sum()\n",
    "    #plot = ggplot(aes(x='Hour', y='ENTRIESn_hourly'), data=df_hour) +\\\n",
    "    #geom_line(color='coral', size=6) + geom_point() +\\\n",
    "    #ggtitle('Entries per hour') +\\\n",
    "    #xlab('Hour') + ylab('Num Entries') +\\\n",
    "    #theme_seaborn(style='whitegrid')\n",
    "\n",
    "    turnstile_weather_hour = turnstile_weather.groupby('Hour' , as_index = False).sum()\n",
    "    turnstile_weather_hour.insert(4, 'column', value='', allow_duplicates=False)\n",
    "\n",
    "    turnstile_weather_hour.loc[(turnstile_weather_hour['Hour'] >= 0) & (turnstile_weather_hour['Hour'] < 5), 'column'] = '1'\n",
    "    turnstile_weather_hour.loc[(turnstile_weather_hour['Hour'] >= 5) & (turnstile_weather_hour['Hour'] < 12), 'column'] = '2'\n",
    "    turnstile_weather_hour.loc[(turnstile_weather_hour['Hour'] >= 12) & (turnstile_weather_hour['Hour'] < 17), 'column'] = '3'\n",
    "    turnstile_weather_hour.loc[(turnstile_weather_hour['Hour'] >= 17) & (turnstile_weather_hour['Hour'] < 20), 'column'] = '4'\n",
    "    turnstile_weather_hour.loc[(turnstile_weather_hour['Hour'] >= 20) & (turnstile_weather_hour['Hour'] < 24), 'column'] = '5'\n",
    "\n",
    "    turnstile_weather_column = turnstile_weather_hour.groupby('column' , as_index = False).sum()\n",
    "\n",
    "    plot = ggplot(turnstile_weather_column, aes('column', 'ENTRIESn_hourly')) + \\\n",
    "    geom_histogram(size=6, stat='bar', color='coral') +\\\n",
    "    ggtitle('RIDERSHIP PER SHIFT - TIME INTERVAL') + xlab('Shift - Time Interval') + ylab('Entries') +\\\n",
    "    theme_seaborn(style='whitegrid') +\\\n",
    "    scale_x_discrete(breaks=(1,2,3,4,5),labels=('22-05 h','05-10 h','10-17 h','17-20 h','20-22 h'))\n",
    "    return plot\n"
   ]
  }
 ],
 "metadata": {
  "kernelspec": {
   "display_name": "Python 2",
   "language": "python",
   "name": "python2"
  },
  "language_info": {
   "codemirror_mode": {
    "name": "ipython",
    "version": 2
   },
   "file_extension": ".py",
   "mimetype": "text/x-python",
   "name": "python",
   "nbconvert_exporter": "python",
   "pygments_lexer": "ipython2",
   "version": "2.7.10"
  }
 },
 "nbformat": 4,
 "nbformat_minor": 0
}
